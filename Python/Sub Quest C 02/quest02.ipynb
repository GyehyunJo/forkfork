{
  "nbformat": 4,
  "nbformat_minor": 0,
  "metadata": {
    "colab": {
      "provenance": [],
      "include_colab_link": true
    },
    "kernelspec": {
      "name": "python3",
      "display_name": "Python 3"
    },
    "language_info": {
      "name": "python"
    }
  },
  "cells": [
    {
      "cell_type": "markdown",
      "metadata": {
        "id": "view-in-github",
        "colab_type": "text"
      },
      "source": [
        "<a href=\"https://colab.research.google.com/github/Lee-Dongsu/AIFFEL_quest_cr/blob/master/Python/Sub%20Quest%20C%2002/quest02.ipynb\" target=\"_parent\"><img src=\"https://colab.research.google.com/assets/colab-badge.svg\" alt=\"Open In Colab\"/></a>"
      ]
    },
    {
      "cell_type": "code",
      "source": [
        "from google.colab import drive\n",
        "drive.mount('/content/drive')"
      ],
      "metadata": {
        "id": "RQ2UECqjRlBZ",
        "outputId": "463719c2-3bba-4380-c821-73b3802e376f",
        "colab": {
          "base_uri": "https://localhost:8080/"
        }
      },
      "execution_count": null,
      "outputs": [
        {
          "output_type": "stream",
          "name": "stdout",
          "text": [
            "Drive already mounted at /content/drive; to attempt to forcibly remount, call drive.mount(\"/content/drive\", force_remount=True).\n"
          ]
        }
      ]
    },
    {
      "cell_type": "code",
      "source": [
        "def process(text):\n",
        "  text = text.lower()             #소문자 변환\n",
        "\n",
        "  text = text.replace(\",\",\"\")     #모든 기호를 제거\n",
        "  text = text.replace(\".\",\"\")\n",
        "  text = text.replace(\"?\",\"\")\n",
        "  text = text.replace(\"!\",\"\")\n",
        "  text = text.replace(\"-\",\"\")\n",
        "\n",
        "  words = text.split()            #공백을 기준으로 단어 나누기\n",
        "\n",
        "  return words"
      ],
      "metadata": {
        "id": "zzdymbhQWu5M"
      },
      "execution_count": null,
      "outputs": []
    },
    {
      "cell_type": "markdown",
      "source": [
        "text.replace 함수를 이용해서 처리하였으나, 한번에 모든 기호를 제거하는 함수를 알지 못해 일일이 기호를 적어서 제거하는 과정을 거쳤다."
      ],
      "metadata": {
        "id": "gLy3kTaImh5u"
      }
    },
    {
      "cell_type": "code",
      "source": [
        "def count_words(words):\n",
        "  word_count = {}   #단어를 세기 위한 빈 딕셔너리\n",
        "\n",
        "  #리스트에 있는 단어들을 하나씩 확인하기\n",
        "  for word in words:\n",
        "    if word in word_count:\n",
        "      word_count[word] += 1 #이미 있으면 +1\n",
        "    else:\n",
        "      word_count[word] = 1  #처음 등장하면 1로 설정\n",
        "\n",
        "  return word_count"
      ],
      "metadata": {
        "id": "YhdJaEgKVn_C"
      },
      "execution_count": null,
      "outputs": []
    },
    {
      "cell_type": "code",
      "source": [
        "def rank_words(word_count):\n",
        "  # 단어들을 빈도(숫자)로 정렬하기\n",
        "  sorted_words = sorted(word_count, key = word_count.get, reverse=True)\n",
        "\n",
        "  # 순위를 매긴 단어들을 딕셔너리에 저장하기\n",
        "  ranked_words = {}\n",
        "  for rank, word in enumerate(sorted_words):\n",
        "    ranked_words[word] = rank +1\n",
        "\n",
        "  return ranked_words"
      ],
      "metadata": {
        "id": "mlASGevfhhiC"
      },
      "execution_count": null,
      "outputs": []
    },
    {
      "cell_type": "markdown",
      "source": [
        "chatGPT해설을 참고해서 이해.\n",
        "https://chatgpt.com/share/b60f3a49-ac67-4717-bada-8e45dee60134"
      ],
      "metadata": {
        "id": "48sEwUC4nu2F"
      }
    },
    {
      "cell_type": "code",
      "source": [
        "def get_word_rank(ranked_words, sentence):\n",
        "    # 문장을 전처리하여 단어로 나누기\n",
        "    words = process(sentence)\n",
        "\n",
        "    # 각 단어의 순위를 리스트에 저장하기\n",
        "    ranks = []\n",
        "    for word in words:\n",
        "        if word in ranked_words:\n",
        "            ranks.append(ranked_words[word])\n",
        "        else:\n",
        "            ranks.append(0)  # 순위가 없는 단어는 0으로 표시\n",
        "\n",
        "    return ranks\n"
      ],
      "metadata": {
        "id": "8LdaPTXfiOWW"
      },
      "execution_count": null,
      "outputs": []
    },
    {
      "cell_type": "markdown",
      "source": [],
      "metadata": {
        "id": "T9jIdgvOsAuv"
      }
    },
    {
      "cell_type": "code",
      "source": [
        "# 1. 텍스트 파일 불러오기\n",
        "with open('/content/Avengers.txt','r')as file:\n",
        "  text = file.read()\n",
        "\n",
        "# 2. 텍스트 전처리\n",
        "words = process(text)\n",
        "\n",
        "# 3. 단어 빈도 계산\n",
        "word_count = count_words(words)\n",
        "\n",
        "# 4. 단어 순위 매기기\n",
        "ranked_words = rank_words(word_count)\n",
        "\n",
        "# 5. 입력된 문장에서 단어 순위 출력하기\n",
        "sentence = input(\"문장을 입력하세요: \")\n",
        "ranks = get_word_rank(ranked_words, sentence)\n",
        "print(\"단어 순위:\", ranks)\n"
      ],
      "metadata": {
        "id": "RxGzYSioT4iO",
        "colab": {
          "base_uri": "https://localhost:8080/"
        },
        "outputId": "5f273212-53ef-4979-8263-02ba2487c927"
      },
      "execution_count": null,
      "outputs": [
        {
          "output_type": "stream",
          "name": "stdout",
          "text": [
            "문장을 입력하세요: i am a boy\n",
            "단어 순위: [3, 131, 4, 555]\n"
          ]
        }
      ]
    },
    {
      "cell_type": "markdown",
      "source": [
        "**회고**\n",
        "```\n",
        "이동수 - 퀘스트를 진행하며 파이썬 함수들의 작동 방식이나 원리에 대해 부족하다고 많이 느껴졌다.\n",
        "GPT의 도움을 많이 받았지만 수많은 함수들을 보고 이해하기 어려운 부분들도 많았고, 다시 전체적으로 이해되는 과정이 필요하다고 생각했다.\n",
        "좀 더 다양한 문제를 접해보고 경험해 볼 필요가 있다고 생각했다.\n",
        "\n",
        "김아영 - 우선 퀘스트 자체를 이해하는 거에 시간을 들였습니다. 동수님과 코더와 네비게이터의 역할을 정하긴 했으나 둘 다 파이썬에 대해 익숙하지 않다보니 주로 대화의 형식을 우선으로 하여 퀘스트를 진행하였습니다. 오히려 이 점이 퀘스트를 수행하는데 있어서 부담이 덜했습니당..\n",
        "퀘스트 수행 과정에 대한 이해는 했지만 어떻게 처리해야하는지에 대한 처리 방법이 부족하다고 느꼈고 주로 GPT를 통해서 해결을 했습니다. GPT의 의존도를 좀 줄이고, 주어진 퀘스트를 처리하는 방법을 '순서대로' 사고하려는 노력을 해야겠다고 반성했습니다.\n",
        " 오류가 생겼을때는 과정의 처음부터 돌아가서 살피고자 했는데 정말 많은 내용을 코딩해야 할 경우를 생각하면 내가 하고 있는 코딩을 제대로 머리속에 잘 정립이 되어야겠구나 하는 생각이 들었습니다.\n",
        "\n",
        "```"
      ],
      "metadata": {
        "id": "f-P2vAN_uyOT"
      }
    }
  ]
}