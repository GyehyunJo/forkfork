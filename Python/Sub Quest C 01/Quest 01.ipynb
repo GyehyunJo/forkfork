{
  "nbformat": 4,
  "nbformat_minor": 0,
  "metadata": {
    "colab": {
      "provenance": [],
      "include_colab_link": true
    },
    "kernelspec": {
      "name": "python3",
      "display_name": "Python 3"
    },
    "language_info": {
      "name": "python"
    }
  },
  "cells": [
    {
      "cell_type": "markdown",
      "metadata": {
        "id": "view-in-github",
        "colab_type": "text"
      },
      "source": [
        "<a href=\"https://colab.research.google.com/github/Lee-Dongsu/AIFFEL_quest_cr/blob/master/Python/Sub%20Quest%20C%2001/Quest%2001.ipynb\" target=\"_parent\"><img src=\"https://colab.research.google.com/assets/colab-badge.svg\" alt=\"Open In Colab\"/></a>"
      ]
    },
    {
      "cell_type": "markdown",
      "source": [
        "[퀘스트1] 회문인지 아닌지 확인하는 프로그램\n",
        "\n",
        "```\n",
        "*  조건\n",
        "단어를 입력받을 수 있게 한다.\n",
        "입력된 단어를뒤집어서 출력할 수 있게 한다.\n",
        "입력된 단어가 회문이 맞는지 확인하여 출력할 수 있게 한다.\n",
        "자료형, 제어문, 함수를 활용한다.\n",
        "```\n",
        "\n",
        "```\n",
        "회고\n",
        "\n",
        "*   이동수: 이전에 비슷한 문제를 풀어본 적이 있지만 다른 방법으로 해결하려는 과정에서 조금의 난항을 겪었다.\n",
        "코드 작성을 하는 방법에는 다양한 방법이 있고 새로운 방법으로 작성하는 과정에서 알고있는 부분과 부족한 부분에 대해 알게되었다.\n",
        "\n",
        "*   김지혜: 우선 풀어야 할 문제에 대해 짝꿍과 의논하였습니다.\n",
        "어제 배운 파이썬 문법들을 상기하며 서로 문제 풀이법에 대해 생각을 공유하였습니다.\n",
        "토론을 통해 문제 해결 방법에 대해 새로운 아이디어를 얻을 수 있었습니다.\n",
        "본격적인 코딩 작업에서는 완료 이전에도 몇 차례 실행해 보면서 파이썬 문법에 대해 더욱 자세히 토론해 보았습니다.\n",
        "```\n",
        "\n"
      ],
      "metadata": {
        "id": "WzSgkL-XpYsM"
      }
    },
    {
      "cell_type": "code",
      "source": [
        "# 사용자로부터 단어를 입력 받습니다.\n",
        "word = input(\"단어를 입력하세요: \")\n",
        "\n",
        "# 입력된 단어를 뒤집습니다.\n",
        "reversed_word = word[::-1]\n",
        "\n",
        "# 입력된 단어를 뒤집어서 출력합니다.\n",
        "print('입력한 단어의 뒤집힌 결과는',reversed_word, '입니다')\n",
        "\n",
        "# 입력받은 단어와 출력된 단어를 비교하여 회문인지 아닌지 확인합니다.\n",
        "if word == reversed_word:\n",
        "  print(word, '은(는) 회문입니다.')\n",
        "else:\n",
        "  print(word, '은(는) 회문이 아닙니다.')"
      ],
      "metadata": {
        "id": "No6pITlgpYyz"
      },
      "execution_count": null,
      "outputs": []
    }
  ]
}